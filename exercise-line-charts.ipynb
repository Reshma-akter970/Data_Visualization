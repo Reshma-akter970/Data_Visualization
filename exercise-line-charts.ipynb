{
 "cells": [
  {
   "cell_type": "markdown",
   "id": "dd80c203",
   "metadata": {
    "papermill": {
     "duration": 0.00662,
     "end_time": "2022-12-30T14:42:37.655228",
     "exception": false,
     "start_time": "2022-12-30T14:42:37.648608",
     "status": "completed"
    },
    "tags": []
   },
   "source": [
    "**This notebook is an exercise in the [Data Visualization](https://www.kaggle.com/learn/data-visualization) course.  You can reference the tutorial at [this link](https://www.kaggle.com/alexisbcook/line-charts).**\n",
    "\n",
    "---\n"
   ]
  },
  {
   "cell_type": "markdown",
   "id": "e7f205b1",
   "metadata": {
    "papermill": {
     "duration": 0.004982,
     "end_time": "2022-12-30T14:42:37.666138",
     "exception": false,
     "start_time": "2022-12-30T14:42:37.661156",
     "status": "completed"
    },
    "tags": []
   },
   "source": [
    "In this exercise, you will use your new knowledge to propose a solution to a real-world scenario. To succeed, you will need to import data into Python, answer questions using the data, and generate **line charts** to understand patterns in the data.\n",
    "\n",
    "## Scenario\n",
    "\n",
    "You have recently been hired to manage the museums in the City of Los Angeles. Your first project focuses on the four museums pictured in the images below.\n",
    "\n",
    "![ex1_museums](https://i.imgur.com/pFYL8J1.png)\n",
    "\n",
    "You will leverage data from the Los Angeles [Data Portal](https://data.lacity.org/) that tracks monthly visitors to each museum.  \n",
    "\n",
    "![ex1_xlsx](https://i.imgur.com/mGWYlym.png)\n",
    "\n",
    "## Setup\n",
    "\n",
    "Run the next cell to import and configure the Python libraries that you need to complete the exercise."
   ]
  },
  {
   "cell_type": "code",
   "execution_count": 1,
   "id": "6cbb77b4",
   "metadata": {
    "execution": {
     "iopub.execute_input": "2022-12-30T14:42:37.678706Z",
     "iopub.status.busy": "2022-12-30T14:42:37.678259Z",
     "iopub.status.idle": "2022-12-30T14:42:38.586063Z",
     "shell.execute_reply": "2022-12-30T14:42:38.584793Z"
    },
    "papermill": {
     "duration": 0.917252,
     "end_time": "2022-12-30T14:42:38.588702",
     "exception": false,
     "start_time": "2022-12-30T14:42:37.671450",
     "status": "completed"
    },
    "tags": []
   },
   "outputs": [
    {
     "name": "stdout",
     "output_type": "stream",
     "text": [
      "Setup Complete\n"
     ]
    }
   ],
   "source": [
    "import pandas as pd\n",
    "pd.plotting.register_matplotlib_converters()\n",
    "import matplotlib.pyplot as plt\n",
    "%matplotlib inline\n",
    "import seaborn as sns\n",
    "print(\"Setup Complete\")"
   ]
  },
  {
   "cell_type": "markdown",
   "id": "2045212c",
   "metadata": {
    "papermill": {
     "duration": 0.005342,
     "end_time": "2022-12-30T14:42:38.599669",
     "exception": false,
     "start_time": "2022-12-30T14:42:38.594327",
     "status": "completed"
    },
    "tags": []
   },
   "source": [
    "The questions below will give you feedback on your work. Run the following cell to set up the feedback system."
   ]
  },
  {
   "cell_type": "code",
   "execution_count": 2,
   "id": "9dc50445",
   "metadata": {
    "execution": {
     "iopub.execute_input": "2022-12-30T14:42:38.612117Z",
     "iopub.status.busy": "2022-12-30T14:42:38.611699Z",
     "iopub.status.idle": "2022-12-30T14:42:38.669612Z",
     "shell.execute_reply": "2022-12-30T14:42:38.668672Z"
    },
    "papermill": {
     "duration": 0.066831,
     "end_time": "2022-12-30T14:42:38.671891",
     "exception": false,
     "start_time": "2022-12-30T14:42:38.605060",
     "status": "completed"
    },
    "tags": []
   },
   "outputs": [
    {
     "name": "stdout",
     "output_type": "stream",
     "text": [
      "Setup Complete\n"
     ]
    }
   ],
   "source": [
    "# Set up code checking\n",
    "import os\n",
    "if not os.path.exists(\"../input/museum_visitors.csv\"):\n",
    "    os.symlink(\"../input/data-for-datavis/museum_visitors.csv\", \"../input/museum_visitors.csv\") \n",
    "from learntools.core import binder\n",
    "binder.bind(globals())\n",
    "from learntools.data_viz_to_coder.ex2 import *\n",
    "print(\"Setup Complete\")"
   ]
  },
  {
   "cell_type": "markdown",
   "id": "96f56c2f",
   "metadata": {
    "papermill": {
     "duration": 0.005208,
     "end_time": "2022-12-30T14:42:38.682782",
     "exception": false,
     "start_time": "2022-12-30T14:42:38.677574",
     "status": "completed"
    },
    "tags": []
   },
   "source": [
    "## Step 1: Load the data\n",
    "\n",
    "Your first assignment is to read the LA Museum Visitors data file into `museum_data`.  Note that:\n",
    "- The filepath to the dataset is stored as `museum_filepath`.  Please **do not** change the provided value of the filepath.\n",
    "- The name of the column to use as row labels is `\"Date\"`.  (This can be seen in cell A1 when the file is opened in Excel.)\n",
    "\n",
    "To help with this, you may find it useful to revisit some relevant code from the tutorial, which we have pasted below:\n",
    "\n",
    "```python\n",
    "# Path of the file to read\n",
    "spotify_filepath = \"../input/spotify.csv\"\n",
    "\n",
    "# Read the file into a variable spotify_data\n",
    "spotify_data = pd.read_csv(spotify_filepath, index_col=\"Date\", parse_dates=True)\n",
    "```\n",
    "\n",
    "The code you need to write now looks very similar!"
   ]
  },
  {
   "cell_type": "code",
   "execution_count": 3,
   "id": "1f1c3f01",
   "metadata": {
    "execution": {
     "iopub.execute_input": "2022-12-30T14:42:38.695688Z",
     "iopub.status.busy": "2022-12-30T14:42:38.694813Z",
     "iopub.status.idle": "2022-12-30T14:42:38.710516Z",
     "shell.execute_reply": "2022-12-30T14:42:38.709502Z"
    },
    "papermill": {
     "duration": 0.024615,
     "end_time": "2022-12-30T14:42:38.712717",
     "exception": false,
     "start_time": "2022-12-30T14:42:38.688102",
     "status": "completed"
    },
    "tags": []
   },
   "outputs": [
    {
     "data": {
      "application/javascript": [
       "parent.postMessage({\"jupyterEvent\": \"custom.exercise_interaction\", \"data\": {\"outcomeType\": 1, \"valueTowardsCompletion\": 0.3333333333333333, \"interactionType\": 1, \"questionType\": 1, \"questionId\": \"1_LoadMuseumData\", \"learnToolsVersion\": \"0.3.4\", \"failureMessage\": \"\", \"exceptionClass\": \"\", \"trace\": \"\"}}, \"*\")"
      ],
      "text/plain": [
       "<IPython.core.display.Javascript object>"
      ]
     },
     "metadata": {},
     "output_type": "display_data"
    },
    {
     "data": {
      "text/markdown": [
       "<span style=\"color:#33cc33\">Correct</span>"
      ],
      "text/plain": [
       "Correct"
      ]
     },
     "metadata": {},
     "output_type": "display_data"
    }
   ],
   "source": [
    "# Path of the file to read\n",
    "museum_filepath = \"../input/museum_visitors.csv\"\n",
    "\n",
    "# Fill in the line below to read the file into a variable museum_data\n",
    "museum_data = pd.read_csv(museum_filepath, index_col=\"Date\",parse_dates=True)\n",
    "\n",
    "# Run the line below with no changes to check that you've loaded the data correctly\n",
    "step_1.check()"
   ]
  },
  {
   "cell_type": "code",
   "execution_count": 4,
   "id": "ff41ef5f",
   "metadata": {
    "execution": {
     "iopub.execute_input": "2022-12-30T14:42:38.725218Z",
     "iopub.status.busy": "2022-12-30T14:42:38.724876Z",
     "iopub.status.idle": "2022-12-30T14:42:38.729140Z",
     "shell.execute_reply": "2022-12-30T14:42:38.728185Z"
    },
    "papermill": {
     "duration": 0.013005,
     "end_time": "2022-12-30T14:42:38.731363",
     "exception": false,
     "start_time": "2022-12-30T14:42:38.718358",
     "status": "completed"
    },
    "tags": []
   },
   "outputs": [],
   "source": [
    "# Uncomment the line below to receive a hint\n",
    "#step_1.hint()\n",
    "# Uncomment the line below to see the solution\n",
    "#step_1.solution()"
   ]
  },
  {
   "cell_type": "markdown",
   "id": "9ddc940f",
   "metadata": {
    "papermill": {
     "duration": 0.005447,
     "end_time": "2022-12-30T14:42:38.743926",
     "exception": false,
     "start_time": "2022-12-30T14:42:38.738479",
     "status": "completed"
    },
    "tags": []
   },
   "source": [
    "## Step 2: Review the data\n",
    "\n",
    "Use a Python command to print the last 5 rows of the data."
   ]
  },
  {
   "cell_type": "code",
   "execution_count": 5,
   "id": "6c9e2701",
   "metadata": {
    "execution": {
     "iopub.execute_input": "2022-12-30T14:42:38.756778Z",
     "iopub.status.busy": "2022-12-30T14:42:38.756386Z",
     "iopub.status.idle": "2022-12-30T14:42:38.771119Z",
     "shell.execute_reply": "2022-12-30T14:42:38.769906Z"
    },
    "papermill": {
     "duration": 0.023775,
     "end_time": "2022-12-30T14:42:38.773351",
     "exception": false,
     "start_time": "2022-12-30T14:42:38.749576",
     "status": "completed"
    },
    "tags": []
   },
   "outputs": [
    {
     "data": {
      "text/html": [
       "<div>\n",
       "<style scoped>\n",
       "    .dataframe tbody tr th:only-of-type {\n",
       "        vertical-align: middle;\n",
       "    }\n",
       "\n",
       "    .dataframe tbody tr th {\n",
       "        vertical-align: top;\n",
       "    }\n",
       "\n",
       "    .dataframe thead th {\n",
       "        text-align: right;\n",
       "    }\n",
       "</style>\n",
       "<table border=\"1\" class=\"dataframe\">\n",
       "  <thead>\n",
       "    <tr style=\"text-align: right;\">\n",
       "      <th></th>\n",
       "      <th>Avila Adobe</th>\n",
       "      <th>Firehouse Museum</th>\n",
       "      <th>Chinese American Museum</th>\n",
       "      <th>America Tropical Interpretive Center</th>\n",
       "    </tr>\n",
       "    <tr>\n",
       "      <th>Date</th>\n",
       "      <th></th>\n",
       "      <th></th>\n",
       "      <th></th>\n",
       "      <th></th>\n",
       "    </tr>\n",
       "  </thead>\n",
       "  <tbody>\n",
       "    <tr>\n",
       "      <th>2018-07-01</th>\n",
       "      <td>23136</td>\n",
       "      <td>4191</td>\n",
       "      <td>2620</td>\n",
       "      <td>4718</td>\n",
       "    </tr>\n",
       "    <tr>\n",
       "      <th>2018-08-01</th>\n",
       "      <td>20815</td>\n",
       "      <td>4866</td>\n",
       "      <td>2409</td>\n",
       "      <td>3891</td>\n",
       "    </tr>\n",
       "    <tr>\n",
       "      <th>2018-09-01</th>\n",
       "      <td>21020</td>\n",
       "      <td>4956</td>\n",
       "      <td>2146</td>\n",
       "      <td>3180</td>\n",
       "    </tr>\n",
       "    <tr>\n",
       "      <th>2018-10-01</th>\n",
       "      <td>19280</td>\n",
       "      <td>4622</td>\n",
       "      <td>2364</td>\n",
       "      <td>3775</td>\n",
       "    </tr>\n",
       "    <tr>\n",
       "      <th>2018-11-01</th>\n",
       "      <td>17163</td>\n",
       "      <td>4082</td>\n",
       "      <td>2385</td>\n",
       "      <td>4562</td>\n",
       "    </tr>\n",
       "  </tbody>\n",
       "</table>\n",
       "</div>"
      ],
      "text/plain": [
       "            Avila Adobe  Firehouse Museum  Chinese American Museum  \\\n",
       "Date                                                                 \n",
       "2018-07-01        23136              4191                     2620   \n",
       "2018-08-01        20815              4866                     2409   \n",
       "2018-09-01        21020              4956                     2146   \n",
       "2018-10-01        19280              4622                     2364   \n",
       "2018-11-01        17163              4082                     2385   \n",
       "\n",
       "            America Tropical Interpretive Center  \n",
       "Date                                              \n",
       "2018-07-01                                  4718  \n",
       "2018-08-01                                  3891  \n",
       "2018-09-01                                  3180  \n",
       "2018-10-01                                  3775  \n",
       "2018-11-01                                  4562  "
      ]
     },
     "execution_count": 5,
     "metadata": {},
     "output_type": "execute_result"
    }
   ],
   "source": [
    "museum_data.tail()"
   ]
  },
  {
   "cell_type": "markdown",
   "id": "4a46bdf3",
   "metadata": {
    "papermill": {
     "duration": 0.005682,
     "end_time": "2022-12-30T14:42:38.785036",
     "exception": false,
     "start_time": "2022-12-30T14:42:38.779354",
     "status": "completed"
    },
    "tags": []
   },
   "source": [
    "The last row (for `2018-11-01`) tracks the number of visitors to each museum in November 2018, the next-to-last row (for `2018-10-01`) tracks the number of visitors to each museum in October 2018, _and so on_.\n",
    "\n",
    "Use the last 5 rows of the data to answer the questions below."
   ]
  },
  {
   "cell_type": "code",
   "execution_count": 6,
   "id": "3176929a",
   "metadata": {
    "execution": {
     "iopub.execute_input": "2022-12-30T14:42:38.798800Z",
     "iopub.status.busy": "2022-12-30T14:42:38.798023Z",
     "iopub.status.idle": "2022-12-30T14:42:38.807680Z",
     "shell.execute_reply": "2022-12-30T14:42:38.806869Z"
    },
    "papermill": {
     "duration": 0.019025,
     "end_time": "2022-12-30T14:42:38.809862",
     "exception": false,
     "start_time": "2022-12-30T14:42:38.790837",
     "status": "completed"
    },
    "tags": []
   },
   "outputs": [
    {
     "data": {
      "application/javascript": [
       "parent.postMessage({\"jupyterEvent\": \"custom.exercise_interaction\", \"data\": {\"outcomeType\": 1, \"valueTowardsCompletion\": 0.3333333333333333, \"interactionType\": 1, \"questionType\": 1, \"questionId\": \"2_ReviewData\", \"learnToolsVersion\": \"0.3.4\", \"failureMessage\": \"\", \"exceptionClass\": \"\", \"trace\": \"\"}}, \"*\")"
      ],
      "text/plain": [
       "<IPython.core.display.Javascript object>"
      ]
     },
     "metadata": {},
     "output_type": "display_data"
    },
    {
     "data": {
      "text/markdown": [
       "<span style=\"color:#33cc33\">Correct</span>"
      ],
      "text/plain": [
       "Correct"
      ]
     },
     "metadata": {},
     "output_type": "display_data"
    }
   ],
   "source": [
    "# Fill in the line below: How many visitors did the Chinese American Museum \n",
    "# receive in July 2018?\n",
    "ca_museum_jul18 = 2620\n",
    "\n",
    "# Fill in the line below: In October 2018, how many more visitors did Avila \n",
    "# Adobe receive than the Firehouse Museum?\n",
    "avila_oct18 = 19280-4622\n",
    "# Check your answers\n",
    "step_2.check()"
   ]
  },
  {
   "cell_type": "code",
   "execution_count": 7,
   "id": "e84194a9",
   "metadata": {
    "execution": {
     "iopub.execute_input": "2022-12-30T14:42:38.823673Z",
     "iopub.status.busy": "2022-12-30T14:42:38.823018Z",
     "iopub.status.idle": "2022-12-30T14:42:38.833618Z",
     "shell.execute_reply": "2022-12-30T14:42:38.832778Z"
    },
    "papermill": {
     "duration": 0.019882,
     "end_time": "2022-12-30T14:42:38.835757",
     "exception": false,
     "start_time": "2022-12-30T14:42:38.815875",
     "status": "completed"
    },
    "tags": []
   },
   "outputs": [
    {
     "data": {
      "text/html": [
       "<div>\n",
       "<style scoped>\n",
       "    .dataframe tbody tr th:only-of-type {\n",
       "        vertical-align: middle;\n",
       "    }\n",
       "\n",
       "    .dataframe tbody tr th {\n",
       "        vertical-align: top;\n",
       "    }\n",
       "\n",
       "    .dataframe thead th {\n",
       "        text-align: right;\n",
       "    }\n",
       "</style>\n",
       "<table border=\"1\" class=\"dataframe\">\n",
       "  <thead>\n",
       "    <tr style=\"text-align: right;\">\n",
       "      <th></th>\n",
       "      <th>Avila Adobe</th>\n",
       "      <th>Firehouse Museum</th>\n",
       "      <th>Chinese American Museum</th>\n",
       "      <th>America Tropical Interpretive Center</th>\n",
       "    </tr>\n",
       "    <tr>\n",
       "      <th>Date</th>\n",
       "      <th></th>\n",
       "      <th></th>\n",
       "      <th></th>\n",
       "      <th></th>\n",
       "    </tr>\n",
       "  </thead>\n",
       "  <tbody>\n",
       "    <tr>\n",
       "      <th>2018-07-01</th>\n",
       "      <td>23136</td>\n",
       "      <td>4191</td>\n",
       "      <td>2620</td>\n",
       "      <td>4718</td>\n",
       "    </tr>\n",
       "    <tr>\n",
       "      <th>2018-08-01</th>\n",
       "      <td>20815</td>\n",
       "      <td>4866</td>\n",
       "      <td>2409</td>\n",
       "      <td>3891</td>\n",
       "    </tr>\n",
       "    <tr>\n",
       "      <th>2018-09-01</th>\n",
       "      <td>21020</td>\n",
       "      <td>4956</td>\n",
       "      <td>2146</td>\n",
       "      <td>3180</td>\n",
       "    </tr>\n",
       "    <tr>\n",
       "      <th>2018-10-01</th>\n",
       "      <td>19280</td>\n",
       "      <td>4622</td>\n",
       "      <td>2364</td>\n",
       "      <td>3775</td>\n",
       "    </tr>\n",
       "    <tr>\n",
       "      <th>2018-11-01</th>\n",
       "      <td>17163</td>\n",
       "      <td>4082</td>\n",
       "      <td>2385</td>\n",
       "      <td>4562</td>\n",
       "    </tr>\n",
       "  </tbody>\n",
       "</table>\n",
       "</div>"
      ],
      "text/plain": [
       "            Avila Adobe  Firehouse Museum  Chinese American Museum  \\\n",
       "Date                                                                 \n",
       "2018-07-01        23136              4191                     2620   \n",
       "2018-08-01        20815              4866                     2409   \n",
       "2018-09-01        21020              4956                     2146   \n",
       "2018-10-01        19280              4622                     2364   \n",
       "2018-11-01        17163              4082                     2385   \n",
       "\n",
       "            America Tropical Interpretive Center  \n",
       "Date                                              \n",
       "2018-07-01                                  4718  \n",
       "2018-08-01                                  3891  \n",
       "2018-09-01                                  3180  \n",
       "2018-10-01                                  3775  \n",
       "2018-11-01                                  4562  "
      ]
     },
     "execution_count": 7,
     "metadata": {},
     "output_type": "execute_result"
    }
   ],
   "source": [
    "# Lines below will give you a hint or solution code\n",
    "#step_2.hint()\n",
    "#step_2.solution()\n",
    "museum_data.tail()"
   ]
  },
  {
   "cell_type": "markdown",
   "id": "e6513e22",
   "metadata": {
    "papermill": {
     "duration": 0.006004,
     "end_time": "2022-12-30T14:42:38.848082",
     "exception": false,
     "start_time": "2022-12-30T14:42:38.842078",
     "status": "completed"
    },
    "tags": []
   },
   "source": [
    "## Step 3: Convince the museum board \n",
    "\n",
    "The Firehouse Museum claims they ran an event in 2014 that brought an incredible number of visitors, and that they should get extra budget to run a similar event again.  The other museums think these types of events aren't that important, and budgets should be split purely based on recent visitors on an average day.  \n",
    "\n",
    "To show the museum board how the event compared to regular traffic at each museum, create a line chart that shows how the number of visitors to each museum evolved over time.  Your figure should have four lines (one for each museum).\n",
    "\n",
    "> **(Optional) Note**: If you have some prior experience with plotting figures in Python, you might be familiar with the `plt.show()` command.  If you decide to use this command, please place it **after** the line of code that checks your answer (in this case, place it after `step_3.check()` below) -- otherwise, the checking code will return an error!"
   ]
  },
  {
   "cell_type": "code",
   "execution_count": 8,
   "id": "3c632503",
   "metadata": {
    "execution": {
     "iopub.execute_input": "2022-12-30T14:42:38.862458Z",
     "iopub.status.busy": "2022-12-30T14:42:38.861757Z",
     "iopub.status.idle": "2022-12-30T14:42:39.249992Z",
     "shell.execute_reply": "2022-12-30T14:42:39.249096Z"
    },
    "papermill": {
     "duration": 0.398146,
     "end_time": "2022-12-30T14:42:39.252438",
     "exception": false,
     "start_time": "2022-12-30T14:42:38.854292",
     "status": "completed"
    },
    "tags": []
   },
   "outputs": [
    {
     "data": {
      "application/javascript": [
       "parent.postMessage({\"jupyterEvent\": \"custom.exercise_interaction\", \"data\": {\"outcomeType\": 1, \"valueTowardsCompletion\": 0.3333333333333333, \"interactionType\": 1, \"questionType\": 2, \"questionId\": \"3_PlotAll\", \"learnToolsVersion\": \"0.3.4\", \"failureMessage\": \"\", \"exceptionClass\": \"\", \"trace\": \"\"}}, \"*\")"
      ],
      "text/plain": [
       "<IPython.core.display.Javascript object>"
      ]
     },
     "metadata": {},
     "output_type": "display_data"
    },
    {
     "data": {
      "text/markdown": [
       "<span style=\"color:#33cc33\">Correct</span>"
      ],
      "text/plain": [
       "Correct"
      ]
     },
     "metadata": {},
     "output_type": "display_data"
    },
    {
     "data": {
      "image/png": "[encoded data removed]",
      "text/plain": [
       "<Figure size 864x432 with 1 Axes>"
      ]
     },
     "metadata": {
      "needs_background": "light"
     },
     "output_type": "display_data"
    }
   ],
   "source": [
    "# Line chart showing the number of visitors to each museum over time\n",
    "plt.figure(figsize=(12, 6))\n",
    "plt.title('Monthly Visitors to Los Angeles City Museums')\n",
    "sns.lineplot(data=museum_data)\n",
    "\n",
    "plt.xlabel('Dates')\n",
    "\n",
    "\n",
    "# Check your answer\n",
    "step_3.check()"
   ]
  },
  {
   "cell_type": "code",
   "execution_count": 9,
   "id": "10c8ef2a",
   "metadata": {
    "execution": {
     "iopub.execute_input": "2022-12-30T14:42:39.270095Z",
     "iopub.status.busy": "2022-12-30T14:42:39.269168Z",
     "iopub.status.idle": "2022-12-30T14:42:39.274204Z",
     "shell.execute_reply": "2022-12-30T14:42:39.273311Z"
    },
    "papermill": {
     "duration": 0.016075,
     "end_time": "2022-12-30T14:42:39.276345",
     "exception": false,
     "start_time": "2022-12-30T14:42:39.260270",
     "status": "completed"
    },
    "tags": []
   },
   "outputs": [],
   "source": [
    "# Lines below will give you a hint or solution code\n",
    "#step_3.hint()\n",
    "#step_3.solution_plot()"
   ]
  },
  {
   "cell_type": "markdown",
   "id": "af1fbddf",
   "metadata": {
    "papermill": {
     "duration": 0.007331,
     "end_time": "2022-12-30T14:42:39.291395",
     "exception": false,
     "start_time": "2022-12-30T14:42:39.284064",
     "status": "completed"
    },
    "tags": []
   },
   "source": [
    "## Step 4: Assess seasonality\n",
    "\n",
    "When meeting with the employees at Avila Adobe, you hear that one major pain point is that the number of museum visitors varies greatly with the seasons, with low seasons (when the employees are perfectly staffed and happy) and also high seasons (when the employees are understaffed and stressed).  You realize that if you can predict these high and low seasons, you can plan ahead to hire some additional seasonal employees to help out with the extra work.\n",
    "\n",
    "#### Part A\n",
    "Create a line chart that shows how the number of visitors to Avila Adobe has evolved over time.  (_If your code returns an error, the first thing that you should check is that you've spelled the name of the column correctly!  You must write the name of the column exactly as it appears in the dataset._)"
   ]
  },
  {
   "cell_type": "code",
   "execution_count": 10,
   "id": "cf69bae8",
   "metadata": {
    "execution": {
     "iopub.execute_input": "2022-12-30T14:42:39.308414Z",
     "iopub.status.busy": "2022-12-30T14:42:39.307510Z",
     "iopub.status.idle": "2022-12-30T14:42:39.602543Z",
     "shell.execute_reply": "2022-12-30T14:42:39.601459Z"
    },
    "papermill": {
     "duration": 0.306386,
     "end_time": "2022-12-30T14:42:39.605315",
     "exception": false,
     "start_time": "2022-12-30T14:42:39.298929",
     "status": "completed"
    },
    "tags": []
   },
   "outputs": [
    {
     "name": "stdout",
     "output_type": "stream",
     "text": [
      "Thank you for creating a line chart!  To see how your code compares to the official solution, please use the code cell below.\n"
     ]
    },
    {
     "data": {
      "application/javascript": [
       "parent.postMessage({\"jupyterEvent\": \"custom.exercise_interaction\", \"data\": {\"outcomeType\": 1, \"valueTowardsCompletion\": 0.3333333333333333, \"interactionType\": 1, \"questionType\": 2, \"questionId\": \"4.1_PlotAvila\", \"learnToolsVersion\": \"0.3.4\", \"failureMessage\": \"\", \"exceptionClass\": \"\", \"trace\": \"\"}}, \"*\")"
      ],
      "text/plain": [
       "<IPython.core.display.Javascript object>"
      ]
     },
     "metadata": {},
     "output_type": "display_data"
    },
    {
     "data": {
      "text/markdown": [
       "<span style=\"color:#33cc33\">Correct</span>"
      ],
      "text/plain": [
       "Correct"
      ]
     },
     "metadata": {},
     "output_type": "display_data"
    },
    {
     "data": {
      "image/png": "[encoded data removed]",
      "text/plain": [
       "<Figure size 864x432 with 1 Axes>"
      ]
     },
     "metadata": {
      "needs_background": "light"
     },
     "output_type": "display_data"
    }
   ],
   "source": [
    "# Line plot showing the number of visitors to Avila Adobe over time\n",
    "plt.figure(figsize=(12,6))\n",
    "plt.title('Monthly Vistiors in Los Angeles City Museums')\n",
    "sns.lineplot(data=museum_data['Avila Adobe'], label='Avila Adobe')\n",
    "plt.xlabel('Dates')\n",
    "\n",
    "\n",
    "# Check your answer\n",
    "step_4.a.check()"
   ]
  },
  {
   "cell_type": "code",
   "execution_count": 11,
   "id": "1b8f2fca",
   "metadata": {
    "execution": {
     "iopub.execute_input": "2022-12-30T14:42:39.625030Z",
     "iopub.status.busy": "2022-12-30T14:42:39.624297Z",
     "iopub.status.idle": "2022-12-30T14:42:39.628668Z",
     "shell.execute_reply": "2022-12-30T14:42:39.627672Z"
    },
    "papermill": {
     "duration": 0.016591,
     "end_time": "2022-12-30T14:42:39.631000",
     "exception": false,
     "start_time": "2022-12-30T14:42:39.614409",
     "status": "completed"
    },
    "tags": []
   },
   "outputs": [],
   "source": [
    "# Lines below will give you a hint or solution code\n",
    "#step_4.a.hint()\n",
    "#step_4.a.solution_plot()"
   ]
  },
  {
   "cell_type": "markdown",
   "id": "483e999a",
   "metadata": {
    "papermill": {
     "duration": 0.00859,
     "end_time": "2022-12-30T14:42:39.648297",
     "exception": false,
     "start_time": "2022-12-30T14:42:39.639707",
     "status": "completed"
    },
    "tags": []
   },
   "source": [
    "#### Part B\n",
    "\n",
    "Does Avila Adobe get more visitors:\n",
    "- in September-February (in LA, the fall and winter months), or \n",
    "- in March-August (in LA, the spring and summer)?  \n",
    "\n",
    "Using this information, when should the museum staff additional seasonal employees?"
   ]
  },
  {
   "cell_type": "code",
   "execution_count": 12,
   "id": "969a43c2",
   "metadata": {
    "execution": {
     "iopub.execute_input": "2022-12-30T14:42:39.667333Z",
     "iopub.status.busy": "2022-12-30T14:42:39.666683Z",
     "iopub.status.idle": "2022-12-30T14:42:39.674991Z",
     "shell.execute_reply": "2022-12-30T14:42:39.674199Z"
    },
    "papermill": {
     "duration": 0.020058,
     "end_time": "2022-12-30T14:42:39.677008",
     "exception": false,
     "start_time": "2022-12-30T14:42:39.656950",
     "status": "completed"
    },
    "tags": []
   },
   "outputs": [
    {
     "data": {
      "application/javascript": [
       "parent.postMessage({\"jupyterEvent\": \"custom.exercise_interaction\", \"data\": {\"interactionType\": 2, \"questionType\": 4, \"questionId\": \"4.2_ThinkAvila\", \"learnToolsVersion\": \"0.3.4\", \"valueTowardsCompletion\": 0.0, \"failureMessage\": \"\", \"exceptionClass\": \"\", \"trace\": \"\", \"outcomeType\": 4}}, \"*\")"
      ],
      "text/plain": [
       "<IPython.core.display.Javascript object>"
      ]
     },
     "metadata": {},
     "output_type": "display_data"
    },
    {
     "data": {
      "text/markdown": [
       "<span style=\"color:#3366cc\">Hint:</span> Look at the early part of each year (around January).  Does the line chart dip to low values or reach relatively high values?"
      ],
      "text/plain": [
       "Hint: Look at the early part of each year (around January).  Does the line chart dip to low values or reach relatively high values?"
      ]
     },
     "metadata": {},
     "output_type": "display_data"
    }
   ],
   "source": [
    "step_4.b.hint()"
   ]
  },
  {
   "cell_type": "code",
   "execution_count": 13,
   "id": "64c8cb35",
   "metadata": {
    "execution": {
     "iopub.execute_input": "2022-12-30T14:42:39.696754Z",
     "iopub.status.busy": "2022-12-30T14:42:39.695887Z",
     "iopub.status.idle": "2022-12-30T14:42:39.699668Z",
     "shell.execute_reply": "2022-12-30T14:42:39.698946Z"
    },
    "papermill": {
     "duration": 0.015736,
     "end_time": "2022-12-30T14:42:39.701609",
     "exception": false,
     "start_time": "2022-12-30T14:42:39.685873",
     "status": "completed"
    },
    "tags": []
   },
   "outputs": [],
   "source": [
    "# Check your answer (Run this code cell to receive credit!)\n",
    "#step_4.b.solution()"
   ]
  },
  {
   "cell_type": "markdown",
   "id": "49c41d6e",
   "metadata": {
    "papermill": {
     "duration": 0.008504,
     "end_time": "2022-12-30T14:42:39.719045",
     "exception": false,
     "start_time": "2022-12-30T14:42:39.710541",
     "status": "completed"
    },
    "tags": []
   },
   "source": [
    "# Keep going\n",
    "\n",
    "Move on to learn about **[bar charts and heatmaps](https://www.kaggle.com/alexisbcook/bar-charts-and-heatmaps)** with a new dataset!"
   ]
  },
  {
   "cell_type": "markdown",
   "id": "72f18f03",
   "metadata": {
    "papermill": {
     "duration": 0.008681,
     "end_time": "2022-12-30T14:42:39.736392",
     "exception": false,
     "start_time": "2022-12-30T14:42:39.727711",
     "status": "completed"
    },
    "tags": []
   },
   "source": [
    "---\n",
    "\n",
    "\n",
    "\n",
    "\n",
    "*Have questions or comments? Visit the [course discussion forum](https://www.kaggle.com/learn/data-visualization/discussion) to chat with other learners.*"
   ]
  }
 ],
 "metadata": {
  "kernelspec": {
   "display_name": "Python 3",
   "language": "python",
   "name": "python3"
  },
  "language_info": {
   "codemirror_mode": {
    "name": "ipython",
    "version": 3
   },
   "file_extension": ".py",
   "mimetype": "text/x-python",
   "name": "python",
   "nbconvert_exporter": "python",
   "pygments_lexer": "ipython3",
   "version": "3.7.12"
  },
  "papermill": {
   "default_parameters": {},
   "duration": 10.863806,
   "end_time": "2022-12-30T14:42:40.466143",
   "environment_variables": {},
   "exception": null,
   "input_path": "__notebook__.ipynb",
   "output_path": "__notebook__.ipynb",
   "parameters": {},
   "start_time": "2022-12-30T14:42:29.602337",
   "version": "2.3.4"
  }
 },
 "nbformat": 4,
 "nbformat_minor": 5
}
