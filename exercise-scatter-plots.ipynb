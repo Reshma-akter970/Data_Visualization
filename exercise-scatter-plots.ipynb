{
 "cells": [
  {
   "cell_type": "markdown",
   "id": "3ea616d6",
   "metadata": {
    "papermill": {
     "duration": 0.010599,
     "end_time": "2022-12-30T14:50:23.200643",
     "exception": false,
     "start_time": "2022-12-30T14:50:23.190044",
     "status": "completed"
    },
    "tags": []
   },
   "source": [
    "**This notebook is an exercise in the [Data Visualization](https://www.kaggle.com/learn/data-visualization) course.  You can reference the tutorial at [this link](https://www.kaggle.com/alexisbcook/scatter-plots).**\n",
    "\n",
    "---\n"
   ]
  },
  {
   "cell_type": "markdown",
   "id": "b8c019e6",
   "metadata": {
    "papermill": {
     "duration": 0.009495,
     "end_time": "2022-12-30T14:50:23.219854",
     "exception": false,
     "start_time": "2022-12-30T14:50:23.210359",
     "status": "completed"
    },
    "tags": []
   },
   "source": [
    "In this exercise, you will use your new knowledge to propose a solution to a real-world scenario.  To succeed, you will need to import data into Python, answer questions using the data, and generate **scatter plots** to understand patterns in the data.\n",
    "\n",
    "## Scenario\n",
    "\n",
    "You work for a major candy producer, and your goal is to write a report that your company can use to guide the design of its next product.  Soon after starting your research, you stumble across this [very interesting dataset](https://fivethirtyeight.com/features/the-ultimate-halloween-candy-power-ranking/) containing results from a fun survey to crowdsource favorite candies.\n",
    "\n",
    "## Setup\n",
    "\n",
    "Run the next cell to import and configure the Python libraries that you need to complete the exercise."
   ]
  },
  {
   "cell_type": "code",
   "execution_count": 1,
   "id": "583fea4f",
   "metadata": {
    "execution": {
     "iopub.execute_input": "2022-12-30T14:50:23.241244Z",
     "iopub.status.busy": "2022-12-30T14:50:23.240475Z",
     "iopub.status.idle": "2022-12-30T14:50:24.441265Z",
     "shell.execute_reply": "2022-12-30T14:50:24.439901Z"
    },
    "papermill": {
     "duration": 1.215423,
     "end_time": "2022-12-30T14:50:24.444850",
     "exception": false,
     "start_time": "2022-12-30T14:50:23.229427",
     "status": "completed"
    },
    "tags": []
   },
   "outputs": [
    {
     "name": "stdout",
     "output_type": "stream",
     "text": [
      "Setup Complete\n"
     ]
    }
   ],
   "source": [
    "import pandas as pd\n",
    "pd.plotting.register_matplotlib_converters()\n",
    "import matplotlib.pyplot as plt\n",
    "%matplotlib inline\n",
    "import seaborn as sns\n",
    "print(\"Setup Complete\")"
   ]
  },
  {
   "cell_type": "markdown",
   "id": "35b4faeb",
   "metadata": {
    "papermill": {
     "duration": 0.009124,
     "end_time": "2022-12-30T14:50:24.464441",
     "exception": false,
     "start_time": "2022-12-30T14:50:24.455317",
     "status": "completed"
    },
    "tags": []
   },
   "source": [
    "The questions below will give you feedback on your work. Run the following cell to set up our feedback system."
   ]
  },
  {
   "cell_type": "code",
   "execution_count": 2,
   "id": "c36f5d1c",
   "metadata": {
    "execution": {
     "iopub.execute_input": "2022-12-30T14:50:24.487540Z",
     "iopub.status.busy": "2022-12-30T14:50:24.487079Z",
     "iopub.status.idle": "2022-12-30T14:50:24.556410Z",
     "shell.execute_reply": "2022-12-30T14:50:24.555034Z"
    },
    "papermill": {
     "duration": 0.083369,
     "end_time": "2022-12-30T14:50:24.559211",
     "exception": false,
     "start_time": "2022-12-30T14:50:24.475842",
     "status": "completed"
    },
    "tags": []
   },
   "outputs": [
    {
     "name": "stdout",
     "output_type": "stream",
     "text": [
      "Setup Complete\n"
     ]
    }
   ],
   "source": [
    "# Set up code checking\n",
    "import os\n",
    "if not os.path.exists(\"../input/candy.csv\"):\n",
    "    os.symlink(\"../input/data-for-datavis/candy.csv\", \"../input/candy.csv\") \n",
    "from learntools.core import binder\n",
    "binder.bind(globals())\n",
    "from learntools.data_viz_to_coder.ex4 import *\n",
    "print(\"Setup Complete\")"
   ]
  },
  {
   "cell_type": "markdown",
   "id": "bcb6ae85",
   "metadata": {
    "papermill": {
     "duration": 0.008893,
     "end_time": "2022-12-30T14:50:24.577332",
     "exception": false,
     "start_time": "2022-12-30T14:50:24.568439",
     "status": "completed"
    },
    "tags": []
   },
   "source": [
    "## Step 1: Load the Data\n",
    "\n",
    "Read the candy data file into `candy_data`.  Use the `\"id\"` column to label the rows."
   ]
  },
  {
   "cell_type": "code",
   "execution_count": 3,
   "id": "81de8504",
   "metadata": {
    "execution": {
     "iopub.execute_input": "2022-12-30T14:50:24.598412Z",
     "iopub.status.busy": "2022-12-30T14:50:24.597415Z",
     "iopub.status.idle": "2022-12-30T14:50:24.618456Z",
     "shell.execute_reply": "2022-12-30T14:50:24.616759Z"
    },
    "papermill": {
     "duration": 0.035009,
     "end_time": "2022-12-30T14:50:24.621476",
     "exception": false,
     "start_time": "2022-12-30T14:50:24.586467",
     "status": "completed"
    },
    "tags": []
   },
   "outputs": [
    {
     "data": {
      "application/javascript": [
       "parent.postMessage({\"jupyterEvent\": \"custom.exercise_interaction\", \"data\": {\"outcomeType\": 1, \"valueTowardsCompletion\": 0.3333333333333333, \"interactionType\": 1, \"questionType\": 1, \"questionId\": \"1_LoadData\", \"learnToolsVersion\": \"0.3.4\", \"failureMessage\": \"\", \"exceptionClass\": \"\", \"trace\": \"\"}}, \"*\")"
      ],
      "text/plain": [
       "<IPython.core.display.Javascript object>"
      ]
     },
     "metadata": {},
     "output_type": "display_data"
    },
    {
     "data": {
      "text/markdown": [
       "<span style=\"color:#33cc33\">Correct</span>"
      ],
      "text/plain": [
       "Correct"
      ]
     },
     "metadata": {},
     "output_type": "display_data"
    }
   ],
   "source": [
    "# Path of the file to read\n",
    "candy_filepath = \"../input/candy.csv\"\n",
    "\n",
    "# Fill in the line below to read the file into a variable candy_data\n",
    "candy_data = pd.read_csv(candy_filepath, index_col='id')\n",
    "\n",
    "# Run the line below with no changes to check that you've loaded the data correctly\n",
    "step_1.check()"
   ]
  },
  {
   "cell_type": "code",
   "execution_count": 4,
   "id": "2f6402b8",
   "metadata": {
    "execution": {
     "iopub.execute_input": "2022-12-30T14:50:24.643360Z",
     "iopub.status.busy": "2022-12-30T14:50:24.642850Z",
     "iopub.status.idle": "2022-12-30T14:50:24.648799Z",
     "shell.execute_reply": "2022-12-30T14:50:24.647217Z"
    },
    "papermill": {
     "duration": 0.02001,
     "end_time": "2022-12-30T14:50:24.651325",
     "exception": false,
     "start_time": "2022-12-30T14:50:24.631315",
     "status": "completed"
    },
    "tags": []
   },
   "outputs": [],
   "source": [
    "# Lines below will give you a hint or solution code\n",
    "#step_1.hint()\n",
    "#step_1.solution()"
   ]
  },
  {
   "cell_type": "markdown",
   "id": "ed6c436d",
   "metadata": {
    "papermill": {
     "duration": 0.009149,
     "end_time": "2022-12-30T14:50:24.670244",
     "exception": false,
     "start_time": "2022-12-30T14:50:24.661095",
     "status": "completed"
    },
    "tags": []
   },
   "source": [
    "## Step 2: Review the data\n",
    "\n",
    "Use a Python command to print the first five rows of the data."
   ]
  },
  {
   "cell_type": "code",
   "execution_count": 5,
   "id": "da8fa62e",
   "metadata": {
    "execution": {
     "iopub.execute_input": "2022-12-30T14:50:24.691724Z",
     "iopub.status.busy": "2022-12-30T14:50:24.690968Z",
     "iopub.status.idle": "2022-12-30T14:50:24.716523Z",
     "shell.execute_reply": "2022-12-30T14:50:24.715516Z"
    },
    "papermill": {
     "duration": 0.039338,
     "end_time": "2022-12-30T14:50:24.719182",
     "exception": false,
     "start_time": "2022-12-30T14:50:24.679844",
     "status": "completed"
    },
    "tags": []
   },
   "outputs": [
    {
     "data": {
      "text/html": [
       "<div>\n",
       "<style scoped>\n",
       "    .dataframe tbody tr th:only-of-type {\n",
       "        vertical-align: middle;\n",
       "    }\n",
       "\n",
       "    .dataframe tbody tr th {\n",
       "        vertical-align: top;\n",
       "    }\n",
       "\n",
       "    .dataframe thead th {\n",
       "        text-align: right;\n",
       "    }\n",
       "</style>\n",
       "<table border=\"1\" class=\"dataframe\">\n",
       "  <thead>\n",
       "    <tr style=\"text-align: right;\">\n",
       "      <th></th>\n",
       "      <th>competitorname</th>\n",
       "      <th>chocolate</th>\n",
       "      <th>fruity</th>\n",
       "      <th>caramel</th>\n",
       "      <th>peanutyalmondy</th>\n",
       "      <th>nougat</th>\n",
       "      <th>crispedricewafer</th>\n",
       "      <th>hard</th>\n",
       "      <th>bar</th>\n",
       "      <th>pluribus</th>\n",
       "      <th>sugarpercent</th>\n",
       "      <th>pricepercent</th>\n",
       "      <th>winpercent</th>\n",
       "    </tr>\n",
       "    <tr>\n",
       "      <th>id</th>\n",
       "      <th></th>\n",
       "      <th></th>\n",
       "      <th></th>\n",
       "      <th></th>\n",
       "      <th></th>\n",
       "      <th></th>\n",
       "      <th></th>\n",
       "      <th></th>\n",
       "      <th></th>\n",
       "      <th></th>\n",
       "      <th></th>\n",
       "      <th></th>\n",
       "      <th></th>\n",
       "    </tr>\n",
       "  </thead>\n",
       "  <tbody>\n",
       "    <tr>\n",
       "      <th>0</th>\n",
       "      <td>100 Grand</td>\n",
       "      <td>Yes</td>\n",
       "      <td>No</td>\n",
       "      <td>Yes</td>\n",
       "      <td>No</td>\n",
       "      <td>No</td>\n",
       "      <td>Yes</td>\n",
       "      <td>No</td>\n",
       "      <td>Yes</td>\n",
       "      <td>No</td>\n",
       "      <td>0.732</td>\n",
       "      <td>0.860</td>\n",
       "      <td>66.971725</td>\n",
       "    </tr>\n",
       "    <tr>\n",
       "      <th>1</th>\n",
       "      <td>3 Musketeers</td>\n",
       "      <td>Yes</td>\n",
       "      <td>No</td>\n",
       "      <td>No</td>\n",
       "      <td>No</td>\n",
       "      <td>Yes</td>\n",
       "      <td>No</td>\n",
       "      <td>No</td>\n",
       "      <td>Yes</td>\n",
       "      <td>No</td>\n",
       "      <td>0.604</td>\n",
       "      <td>0.511</td>\n",
       "      <td>67.602936</td>\n",
       "    </tr>\n",
       "    <tr>\n",
       "      <th>2</th>\n",
       "      <td>Air Heads</td>\n",
       "      <td>No</td>\n",
       "      <td>Yes</td>\n",
       "      <td>No</td>\n",
       "      <td>No</td>\n",
       "      <td>No</td>\n",
       "      <td>No</td>\n",
       "      <td>No</td>\n",
       "      <td>No</td>\n",
       "      <td>No</td>\n",
       "      <td>0.906</td>\n",
       "      <td>0.511</td>\n",
       "      <td>52.341465</td>\n",
       "    </tr>\n",
       "    <tr>\n",
       "      <th>3</th>\n",
       "      <td>Almond Joy</td>\n",
       "      <td>Yes</td>\n",
       "      <td>No</td>\n",
       "      <td>No</td>\n",
       "      <td>Yes</td>\n",
       "      <td>No</td>\n",
       "      <td>No</td>\n",
       "      <td>No</td>\n",
       "      <td>Yes</td>\n",
       "      <td>No</td>\n",
       "      <td>0.465</td>\n",
       "      <td>0.767</td>\n",
       "      <td>50.347546</td>\n",
       "    </tr>\n",
       "    <tr>\n",
       "      <th>4</th>\n",
       "      <td>Baby Ruth</td>\n",
       "      <td>Yes</td>\n",
       "      <td>No</td>\n",
       "      <td>Yes</td>\n",
       "      <td>Yes</td>\n",
       "      <td>Yes</td>\n",
       "      <td>No</td>\n",
       "      <td>No</td>\n",
       "      <td>Yes</td>\n",
       "      <td>No</td>\n",
       "      <td>0.604</td>\n",
       "      <td>0.767</td>\n",
       "      <td>56.914547</td>\n",
       "    </tr>\n",
       "  </tbody>\n",
       "</table>\n",
       "</div>"
      ],
      "text/plain": [
       "   competitorname chocolate fruity caramel peanutyalmondy nougat  \\\n",
       "id                                                                 \n",
       "0       100 Grand       Yes     No     Yes             No     No   \n",
       "1    3 Musketeers       Yes     No      No             No    Yes   \n",
       "2       Air Heads        No    Yes      No             No     No   \n",
       "3      Almond Joy       Yes     No      No            Yes     No   \n",
       "4       Baby Ruth       Yes     No     Yes            Yes    Yes   \n",
       "\n",
       "   crispedricewafer hard  bar pluribus  sugarpercent  pricepercent  winpercent  \n",
       "id                                                                              \n",
       "0               Yes   No  Yes       No         0.732         0.860   66.971725  \n",
       "1                No   No  Yes       No         0.604         0.511   67.602936  \n",
       "2                No   No   No       No         0.906         0.511   52.341465  \n",
       "3                No   No  Yes       No         0.465         0.767   50.347546  \n",
       "4                No   No  Yes       No         0.604         0.767   56.914547  "
      ]
     },
     "execution_count": 5,
     "metadata": {},
     "output_type": "execute_result"
    }
   ],
   "source": [
    "# Print the first five rows of the dat\n",
    "candy_data.head()"
   ]
  },
  {
   "cell_type": "markdown",
   "id": "592fb421",
   "metadata": {
    "papermill": {
     "duration": 0.009608,
     "end_time": "2022-12-30T14:50:24.739374",
     "exception": false,
     "start_time": "2022-12-30T14:50:24.729766",
     "status": "completed"
    },
    "tags": []
   },
   "source": [
    "The dataset contains 83 rows, where each corresponds to a different candy bar.  There are 13 columns:\n",
    "- `'competitorname'` contains the name of the candy bar. \n",
    "- the next **9** columns (from `'chocolate'` to `'pluribus'`) describe the candy.  For instance, rows with chocolate candies have `\"Yes\"` in the `'chocolate'` column (and candies without chocolate have `\"No\"` in the same column).\n",
    "- `'sugarpercent'` provides some indication of the amount of sugar, where higher values signify higher sugar content.\n",
    "- `'pricepercent'` shows the price per unit, relative to the other candies in the dataset.\n",
    "- `'winpercent'` is calculated from the survey results; higher values indicate that the candy was more popular with survey respondents.\n",
    "\n",
    "Use the first five rows of the data to answer the questions below."
   ]
  },
  {
   "cell_type": "code",
   "execution_count": 6,
   "id": "03efc7d1",
   "metadata": {
    "execution": {
     "iopub.execute_input": "2022-12-30T14:50:24.762366Z",
     "iopub.status.busy": "2022-12-30T14:50:24.761560Z",
     "iopub.status.idle": "2022-12-30T14:50:24.771555Z",
     "shell.execute_reply": "2022-12-30T14:50:24.770291Z"
    },
    "papermill": {
     "duration": 0.024838,
     "end_time": "2022-12-30T14:50:24.774254",
     "exception": false,
     "start_time": "2022-12-30T14:50:24.749416",
     "status": "completed"
    },
    "tags": []
   },
   "outputs": [
    {
     "data": {
      "application/javascript": [
       "parent.postMessage({\"jupyterEvent\": \"custom.exercise_interaction\", \"data\": {\"outcomeType\": 1, \"valueTowardsCompletion\": 0.3333333333333333, \"interactionType\": 1, \"questionType\": 1, \"questionId\": \"2_ReviewData\", \"learnToolsVersion\": \"0.3.4\", \"failureMessage\": \"\", \"exceptionClass\": \"\", \"trace\": \"\"}}, \"*\")"
      ],
      "text/plain": [
       "<IPython.core.display.Javascript object>"
      ]
     },
     "metadata": {},
     "output_type": "display_data"
    },
    {
     "data": {
      "text/markdown": [
       "<span style=\"color:#33cc33\">Correct</span>"
      ],
      "text/plain": [
       "Correct"
      ]
     },
     "metadata": {},
     "output_type": "display_data"
    }
   ],
   "source": [
    "# Fill in the line below: Which candy was more popular with survey respondents:\n",
    "# '3 Musketeers' or 'Almond Joy'?  (Please enclose your answer in single quotes.)\n",
    "more_popular = '3 Musketeers'\n",
    "\n",
    "# Fill in the line below: Which candy has higher sugar content: 'Air Heads'\n",
    "# or 'Baby Ruth'? (Please enclose your answer in single quotes.)\n",
    "more_sugar = 'Air Heads'\n",
    "\n",
    "# Check your answers\n",
    "step_2.check()"
   ]
  },
  {
   "cell_type": "code",
   "execution_count": 7,
   "id": "89d44c07",
   "metadata": {
    "execution": {
     "iopub.execute_input": "2022-12-30T14:50:24.797274Z",
     "iopub.status.busy": "2022-12-30T14:50:24.796835Z",
     "iopub.status.idle": "2022-12-30T14:50:24.802224Z",
     "shell.execute_reply": "2022-12-30T14:50:24.800496Z"
    },
    "papermill": {
     "duration": 0.020058,
     "end_time": "2022-12-30T14:50:24.804963",
     "exception": false,
     "start_time": "2022-12-30T14:50:24.784905",
     "status": "completed"
    },
    "tags": []
   },
   "outputs": [],
   "source": [
    "# Lines below will give you a hint or solution code\n",
    "#step_2.hint()\n",
    "#step_2.solution()"
   ]
  },
  {
   "cell_type": "markdown",
   "id": "448e6fb2",
   "metadata": {
    "papermill": {
     "duration": 0.010239,
     "end_time": "2022-12-30T14:50:24.825588",
     "exception": false,
     "start_time": "2022-12-30T14:50:24.815349",
     "status": "completed"
    },
    "tags": []
   },
   "source": [
    "## Step 3: The role of sugar\n",
    "\n",
    "Do people tend to prefer candies with higher sugar content?  \n",
    "\n",
    "#### Part A\n",
    "\n",
    "Create a scatter plot that shows the relationship between `'sugarpercent'` (on the horizontal x-axis) and `'winpercent'` (on the vertical y-axis).  _Don't add a regression line just yet -- you'll do that in the next step!_"
   ]
  },
  {
   "cell_type": "code",
   "execution_count": 8,
   "id": "a5f6cd2b",
   "metadata": {
    "execution": {
     "iopub.execute_input": "2022-12-30T14:50:24.848915Z",
     "iopub.status.busy": "2022-12-30T14:50:24.848464Z",
     "iopub.status.idle": "2022-12-30T14:50:25.136909Z",
     "shell.execute_reply": "2022-12-30T14:50:25.135577Z"
    },
    "papermill": {
     "duration": 0.303203,
     "end_time": "2022-12-30T14:50:25.139806",
     "exception": false,
     "start_time": "2022-12-30T14:50:24.836603",
     "status": "completed"
    },
    "tags": []
   },
   "outputs": [
    {
     "data": {
      "application/javascript": [
       "parent.postMessage({\"jupyterEvent\": \"custom.exercise_interaction\", \"data\": {\"outcomeType\": 1, \"valueTowardsCompletion\": 0.3333333333333333, \"interactionType\": 1, \"questionType\": 2, \"questionId\": \"3.1_PlotBlueScatter\", \"learnToolsVersion\": \"0.3.4\", \"failureMessage\": \"\", \"exceptionClass\": \"\", \"trace\": \"\"}}, \"*\")"
      ],
      "text/plain": [
       "<IPython.core.display.Javascript object>"
      ]
     },
     "metadata": {},
     "output_type": "display_data"
    },
    {
     "data": {
      "text/markdown": [
       "<span style=\"color:#33cc33\">Correct</span>"
      ],
      "text/plain": [
       "Correct"
      ]
     },
     "metadata": {},
     "output_type": "display_data"
    },
    {
     "data": {
      "image/png": "[encoded data removed]",
      "text/plain": [
       "<Figure size 864x432 with 1 Axes>"
      ]
     },
     "metadata": {
      "needs_background": "light"
     },
     "output_type": "display_data"
    }
   ],
   "source": [
    "# Scatter plot showing the relationship between 'sugarpercent' and 'winpercent'\n",
    "plt.figure(figsize=(12,6))\n",
    "sns.scatterplot(x=candy_data['sugarpercent'], y=candy_data['winpercent'])\n",
    "\n",
    "# Check your answer\n",
    "step_3.a.check()"
   ]
  },
  {
   "cell_type": "code",
   "execution_count": 9,
   "id": "21840a95",
   "metadata": {
    "execution": {
     "iopub.execute_input": "2022-12-30T14:50:25.164797Z",
     "iopub.status.busy": "2022-12-30T14:50:25.163670Z",
     "iopub.status.idle": "2022-12-30T14:50:25.169666Z",
     "shell.execute_reply": "2022-12-30T14:50:25.168207Z"
    },
    "papermill": {
     "duration": 0.021793,
     "end_time": "2022-12-30T14:50:25.172380",
     "exception": false,
     "start_time": "2022-12-30T14:50:25.150587",
     "status": "completed"
    },
    "tags": []
   },
   "outputs": [],
   "source": [
    "# Lines below will give you a hint or solution code\n",
    "#step_3.a.hint()\n",
    "#step_3.a.solution_plot()"
   ]
  },
  {
   "cell_type": "markdown",
   "id": "f55bbf64",
   "metadata": {
    "papermill": {
     "duration": 0.010216,
     "end_time": "2022-12-30T14:50:25.193495",
     "exception": false,
     "start_time": "2022-12-30T14:50:25.183279",
     "status": "completed"
    },
    "tags": []
   },
   "source": [
    "#### Part B\n",
    "\n",
    "Does the scatter plot show a **strong** correlation between the two variables?  If so, are candies with more sugar relatively more or less popular with the survey respondents?"
   ]
  },
  {
   "cell_type": "code",
   "execution_count": 10,
   "id": "8cbdf87a",
   "metadata": {
    "execution": {
     "iopub.execute_input": "2022-12-30T14:50:25.216904Z",
     "iopub.status.busy": "2022-12-30T14:50:25.216387Z",
     "iopub.status.idle": "2022-12-30T14:50:25.222492Z",
     "shell.execute_reply": "2022-12-30T14:50:25.220767Z"
    },
    "papermill": {
     "duration": 0.021343,
     "end_time": "2022-12-30T14:50:25.225514",
     "exception": false,
     "start_time": "2022-12-30T14:50:25.204171",
     "status": "completed"
    },
    "tags": []
   },
   "outputs": [],
   "source": [
    "#step_3.b.hint()"
   ]
  },
  {
   "cell_type": "code",
   "execution_count": 11,
   "id": "9f826099",
   "metadata": {
    "execution": {
     "iopub.execute_input": "2022-12-30T14:50:25.249673Z",
     "iopub.status.busy": "2022-12-30T14:50:25.249174Z",
     "iopub.status.idle": "2022-12-30T14:50:25.254998Z",
     "shell.execute_reply": "2022-12-30T14:50:25.253641Z"
    },
    "papermill": {
     "duration": 0.021664,
     "end_time": "2022-12-30T14:50:25.258070",
     "exception": false,
     "start_time": "2022-12-30T14:50:25.236406",
     "status": "completed"
    },
    "tags": []
   },
   "outputs": [],
   "source": [
    "# Check your answer (Run this code cell to receive credit!)\n",
    "#step_3.b.solution()"
   ]
  },
  {
   "cell_type": "markdown",
   "id": "be046cb3",
   "metadata": {
    "papermill": {
     "duration": 0.010323,
     "end_time": "2022-12-30T14:50:25.279391",
     "exception": false,
     "start_time": "2022-12-30T14:50:25.269068",
     "status": "completed"
    },
    "tags": []
   },
   "source": [
    "## Step 4: Take a closer look\n",
    "\n",
    "#### Part A\n",
    "\n",
    "Create the same scatter plot you created in **Step 3**, but now with a regression line!"
   ]
  },
  {
   "cell_type": "code",
   "execution_count": 12,
   "id": "f6cc94f4",
   "metadata": {
    "execution": {
     "iopub.execute_input": "2022-12-30T14:50:25.303059Z",
     "iopub.status.busy": "2022-12-30T14:50:25.302611Z",
     "iopub.status.idle": "2022-12-30T14:50:25.647052Z",
     "shell.execute_reply": "2022-12-30T14:50:25.645608Z"
    },
    "papermill": {
     "duration": 0.359459,
     "end_time": "2022-12-30T14:50:25.649808",
     "exception": false,
     "start_time": "2022-12-30T14:50:25.290349",
     "status": "completed"
    },
    "tags": []
   },
   "outputs": [
    {
     "data": {
      "application/javascript": [
       "parent.postMessage({\"jupyterEvent\": \"custom.exercise_interaction\", \"data\": {\"outcomeType\": 1, \"valueTowardsCompletion\": 0.3333333333333333, \"interactionType\": 1, \"questionType\": 2, \"questionId\": \"4.1_PlotBlueReg\", \"learnToolsVersion\": \"0.3.4\", \"failureMessage\": \"\", \"exceptionClass\": \"\", \"trace\": \"\"}}, \"*\")"
      ],
      "text/plain": [
       "<IPython.core.display.Javascript object>"
      ]
     },
     "metadata": {},
     "output_type": "display_data"
    },
    {
     "data": {
      "text/markdown": [
       "<span style=\"color:#33cc33\">Correct</span>"
      ],
      "text/plain": [
       "Correct"
      ]
     },
     "metadata": {},
     "output_type": "display_data"
    },
    {
     "data": {
      "image/png": "[encoded data removed]",
      "text/plain": [
       "<Figure size 864x432 with 1 Axes>"
      ]
     },
     "metadata": {
      "needs_background": "light"
     },
     "output_type": "display_data"
    }
   ],
   "source": [
    "# Scatter plot w/ regression line showing the relationship between 'sugarpercent' and 'winpercent'\n",
    "plt.figure(figsize=(12,6))\n",
    "sns.regplot(x=candy_data['sugarpercent'], y=candy_data['winpercent'])\n",
    "\n",
    "# Check your answer\n",
    "step_4.a.check()"
   ]
  },
  {
   "cell_type": "code",
   "execution_count": 13,
   "id": "c5edf7fb",
   "metadata": {
    "execution": {
     "iopub.execute_input": "2022-12-30T14:50:25.674489Z",
     "iopub.status.busy": "2022-12-30T14:50:25.674012Z",
     "iopub.status.idle": "2022-12-30T14:50:25.678736Z",
     "shell.execute_reply": "2022-12-30T14:50:25.677648Z"
    },
    "papermill": {
     "duration": 0.019821,
     "end_time": "2022-12-30T14:50:25.681077",
     "exception": false,
     "start_time": "2022-12-30T14:50:25.661256",
     "status": "completed"
    },
    "tags": []
   },
   "outputs": [],
   "source": [
    "# Lines below will give you a hint or solution code\n",
    "#step_4.a.hint()\n",
    "#step_4.a.solution_plot()"
   ]
  },
  {
   "cell_type": "markdown",
   "id": "84442175",
   "metadata": {
    "papermill": {
     "duration": 0.011085,
     "end_time": "2022-12-30T14:50:25.703521",
     "exception": false,
     "start_time": "2022-12-30T14:50:25.692436",
     "status": "completed"
    },
    "tags": []
   },
   "source": [
    "#### Part B\n",
    "\n",
    "According to the plot above, is there a **slight** correlation between `'winpercent'` and `'sugarpercent'`?  What does this tell you about the candy that people tend to prefer?"
   ]
  },
  {
   "cell_type": "code",
   "execution_count": 14,
   "id": "f46e53d1",
   "metadata": {
    "execution": {
     "iopub.execute_input": "2022-12-30T14:50:25.728769Z",
     "iopub.status.busy": "2022-12-30T14:50:25.727736Z",
     "iopub.status.idle": "2022-12-30T14:50:25.732110Z",
     "shell.execute_reply": "2022-12-30T14:50:25.731249Z"
    },
    "papermill": {
     "duration": 0.019268,
     "end_time": "2022-12-30T14:50:25.734312",
     "exception": false,
     "start_time": "2022-12-30T14:50:25.715044",
     "status": "completed"
    },
    "tags": []
   },
   "outputs": [],
   "source": [
    "#step_4.b.hint()"
   ]
  },
  {
   "cell_type": "code",
   "execution_count": 15,
   "id": "cef1ad7a",
   "metadata": {
    "execution": {
     "iopub.execute_input": "2022-12-30T14:50:25.759181Z",
     "iopub.status.busy": "2022-12-30T14:50:25.758732Z",
     "iopub.status.idle": "2022-12-30T14:50:25.763408Z",
     "shell.execute_reply": "2022-12-30T14:50:25.762100Z"
    },
    "papermill": {
     "duration": 0.020255,
     "end_time": "2022-12-30T14:50:25.765977",
     "exception": false,
     "start_time": "2022-12-30T14:50:25.745722",
     "status": "completed"
    },
    "tags": []
   },
   "outputs": [],
   "source": [
    "# Check your answer (Run this code cell to receive credit!)\n",
    "#step_4.b.solution()"
   ]
  },
  {
   "cell_type": "markdown",
   "id": "28adda89",
   "metadata": {
    "papermill": {
     "duration": 0.010947,
     "end_time": "2022-12-30T14:50:25.788275",
     "exception": false,
     "start_time": "2022-12-30T14:50:25.777328",
     "status": "completed"
    },
    "tags": []
   },
   "source": [
    "## Step 5: Chocolate!\n",
    "\n",
    "In the code cell below, create a scatter plot to show the relationship between `'pricepercent'` (on the horizontal x-axis) and `'winpercent'` (on the vertical y-axis). Use the `'chocolate'` column to color-code the points.  _Don't add any regression lines just yet -- you'll do that in the next step!_"
   ]
  },
  {
   "cell_type": "code",
   "execution_count": 16,
   "id": "8077b396",
   "metadata": {
    "execution": {
     "iopub.execute_input": "2022-12-30T14:50:25.813326Z",
     "iopub.status.busy": "2022-12-30T14:50:25.812804Z",
     "iopub.status.idle": "2022-12-30T14:50:26.154538Z",
     "shell.execute_reply": "2022-12-30T14:50:26.153114Z"
    },
    "papermill": {
     "duration": 0.357917,
     "end_time": "2022-12-30T14:50:26.157716",
     "exception": false,
     "start_time": "2022-12-30T14:50:25.799799",
     "status": "completed"
    },
    "tags": []
   },
   "outputs": [
    {
     "data": {
      "application/javascript": [
       "parent.postMessage({\"jupyterEvent\": \"custom.exercise_interaction\", \"data\": {\"outcomeType\": 1, \"valueTowardsCompletion\": 0.3333333333333333, \"interactionType\": 1, \"questionType\": 2, \"questionId\": \"5_ColorScatter\", \"learnToolsVersion\": \"0.3.4\", \"failureMessage\": \"\", \"exceptionClass\": \"\", \"trace\": \"\"}}, \"*\")"
      ],
      "text/plain": [
       "<IPython.core.display.Javascript object>"
      ]
     },
     "metadata": {},
     "output_type": "display_data"
    },
    {
     "data": {
      "text/markdown": [
       "<span style=\"color:#33cc33\">Correct</span>"
      ],
      "text/plain": [
       "Correct"
      ]
     },
     "metadata": {},
     "output_type": "display_data"
    },
    {
     "data": {
      "image/png": "[encoded data removed]",
      "text/plain": [
       "<Figure size 864x432 with 1 Axes>"
      ]
     },
     "metadata": {
      "needs_background": "light"
     },
     "output_type": "display_data"
    }
   ],
   "source": [
    "# Scatter plot showing the relationship between 'pricepercent', 'winpercent', and 'chocolate'\n",
    "plt.figure(figsize=(12,6))\n",
    "sns.scatterplot(x=candy_data['pricepercent'], y=candy_data['winpercent'],hue=candy_data['chocolate'])\n",
    "\n",
    "# Check your answer\n",
    "step_5.check()"
   ]
  },
  {
   "cell_type": "code",
   "execution_count": 17,
   "id": "9ee74b6a",
   "metadata": {
    "execution": {
     "iopub.execute_input": "2022-12-30T14:50:26.184097Z",
     "iopub.status.busy": "2022-12-30T14:50:26.183538Z",
     "iopub.status.idle": "2022-12-30T14:50:26.189559Z",
     "shell.execute_reply": "2022-12-30T14:50:26.188277Z"
    },
    "papermill": {
     "duration": 0.02284,
     "end_time": "2022-12-30T14:50:26.192657",
     "exception": false,
     "start_time": "2022-12-30T14:50:26.169817",
     "status": "completed"
    },
    "tags": []
   },
   "outputs": [],
   "source": [
    "# Lines below will give you a hint or solution code\n",
    "#step_5.hint()\n",
    "#candy_data.head()\n",
    "#step_5.solution_plot()"
   ]
  },
  {
   "cell_type": "markdown",
   "id": "83c51d33",
   "metadata": {
    "papermill": {
     "duration": 0.011736,
     "end_time": "2022-12-30T14:50:26.216757",
     "exception": false,
     "start_time": "2022-12-30T14:50:26.205021",
     "status": "completed"
    },
    "tags": []
   },
   "source": [
    "Can you see any interesting patterns in the scatter plot?  We'll investigate this plot further  by adding regression lines in the next step!\n",
    "\n",
    "## Step 6: Investigate chocolate\n",
    "\n",
    "#### Part A\n",
    "\n",
    "Create the same scatter plot you created in **Step 5**, but now with two regression lines, corresponding to (1) chocolate candies and (2) candies without chocolate."
   ]
  },
  {
   "cell_type": "code",
   "execution_count": 18,
   "id": "f4950eea",
   "metadata": {
    "execution": {
     "iopub.execute_input": "2022-12-30T14:50:26.243001Z",
     "iopub.status.busy": "2022-12-30T14:50:26.242504Z",
     "iopub.status.idle": "2022-12-30T14:50:26.898715Z",
     "shell.execute_reply": "2022-12-30T14:50:26.897139Z"
    },
    "papermill": {
     "duration": 0.672479,
     "end_time": "2022-12-30T14:50:26.901515",
     "exception": false,
     "start_time": "2022-12-30T14:50:26.229036",
     "status": "completed"
    },
    "tags": []
   },
   "outputs": [
    {
     "data": {
      "application/javascript": [
       "parent.postMessage({\"jupyterEvent\": \"custom.exercise_interaction\", \"data\": {\"outcomeType\": 1, \"valueTowardsCompletion\": 0.3333333333333333, \"interactionType\": 1, \"questionType\": 2, \"questionId\": \"6.1_PlotColorReg\", \"learnToolsVersion\": \"0.3.4\", \"failureMessage\": \"\", \"exceptionClass\": \"\", \"trace\": \"\"}}, \"*\")"
      ],
      "text/plain": [
       "<IPython.core.display.Javascript object>"
      ]
     },
     "metadata": {},
     "output_type": "display_data"
    },
    {
     "data": {
      "text/markdown": [
       "<span style=\"color:#33cc33\">Correct</span>"
      ],
      "text/plain": [
       "Correct"
      ]
     },
     "metadata": {},
     "output_type": "display_data"
    },
    {
     "data": {
      "image/png": "[encoded data removed]",
      "text/plain": [
       "<Figure size 416.375x360 with 1 Axes>"
      ]
     },
     "metadata": {
      "needs_background": "light"
     },
     "output_type": "display_data"
    }
   ],
   "source": [
    "# Color-coded scatter plot w/ regression line\n",
    "\n",
    "sns.lmplot(x=\"pricepercent\", y=\"winpercent\", hue=\"chocolate\", data=candy_data)\n",
    "\n",
    "# Check your answer\n",
    "step_6.a.check()"
   ]
  },
  {
   "cell_type": "code",
   "execution_count": 19,
   "id": "bebe29af",
   "metadata": {
    "execution": {
     "iopub.execute_input": "2022-12-30T14:50:26.929697Z",
     "iopub.status.busy": "2022-12-30T14:50:26.928537Z",
     "iopub.status.idle": "2022-12-30T14:50:26.934826Z",
     "shell.execute_reply": "2022-12-30T14:50:26.933262Z"
    },
    "papermill": {
     "duration": 0.023043,
     "end_time": "2022-12-30T14:50:26.937388",
     "exception": false,
     "start_time": "2022-12-30T14:50:26.914345",
     "status": "completed"
    },
    "tags": []
   },
   "outputs": [],
   "source": [
    "# Lines below will give you a hint or solution code\n",
    "#step_6.a.hint()\n",
    "#step_6.a.solution_plot()"
   ]
  },
  {
   "cell_type": "markdown",
   "id": "13334083",
   "metadata": {
    "papermill": {
     "duration": 0.011914,
     "end_time": "2022-12-30T14:50:26.961498",
     "exception": false,
     "start_time": "2022-12-30T14:50:26.949584",
     "status": "completed"
    },
    "tags": []
   },
   "source": [
    "#### Part B\n",
    "\n",
    "Using the regression lines, what conclusions can you draw about the effects of chocolate and price on candy popularity?"
   ]
  },
  {
   "cell_type": "code",
   "execution_count": 20,
   "id": "30898bed",
   "metadata": {
    "execution": {
     "iopub.execute_input": "2022-12-30T14:50:26.987848Z",
     "iopub.status.busy": "2022-12-30T14:50:26.987417Z",
     "iopub.status.idle": "2022-12-30T14:50:26.993236Z",
     "shell.execute_reply": "2022-12-30T14:50:26.991783Z"
    },
    "papermill": {
     "duration": 0.022231,
     "end_time": "2022-12-30T14:50:26.995949",
     "exception": false,
     "start_time": "2022-12-30T14:50:26.973718",
     "status": "completed"
    },
    "tags": []
   },
   "outputs": [],
   "source": [
    "#step_6.b.hint()"
   ]
  },
  {
   "cell_type": "code",
   "execution_count": 21,
   "id": "65033799",
   "metadata": {
    "execution": {
     "iopub.execute_input": "2022-12-30T14:50:27.024268Z",
     "iopub.status.busy": "2022-12-30T14:50:27.023751Z",
     "iopub.status.idle": "2022-12-30T14:50:27.034359Z",
     "shell.execute_reply": "2022-12-30T14:50:27.032958Z"
    },
    "papermill": {
     "duration": 0.028099,
     "end_time": "2022-12-30T14:50:27.037110",
     "exception": false,
     "start_time": "2022-12-30T14:50:27.009011",
     "status": "completed"
    },
    "tags": []
   },
   "outputs": [
    {
     "data": {
      "application/javascript": [
       "parent.postMessage({\"jupyterEvent\": \"custom.exercise_interaction\", \"data\": {\"interactionType\": 3, \"questionType\": 4, \"questionId\": \"6.2_ThinkColorReg\", \"learnToolsVersion\": \"0.3.4\", \"valueTowardsCompletion\": 0.0, \"failureMessage\": \"\", \"exceptionClass\": \"\", \"trace\": \"\", \"outcomeType\": 4}}, \"*\")"
      ],
      "text/plain": [
       "<IPython.core.display.Javascript object>"
      ]
     },
     "metadata": {},
     "output_type": "display_data"
    },
    {
     "data": {
      "text/markdown": [
       "<span style=\"color:#33cc99\">Solution:</span> We'll begin with the regression line for chocolate candies. Since this line has a slightly positive slope, we can say that more expensive chocolate candies tend to be more popular (than relatively cheaper chocolate candies).  Likewise, since the regression line for candies without chocolate has a negative slope, we can say that if candies don't contain chocolate, they tend to be more popular when they are cheaper.  One important note, however, is that the dataset is quite small -- so we shouldn't invest too much trust in these patterns!  To inspire more confidence in the results, we should add more candies to the dataset."
      ],
      "text/plain": [
       "Solution: We'll begin with the regression line for chocolate candies. Since this line has a slightly positive slope, we can say that more expensive chocolate candies tend to be more popular (than relatively cheaper chocolate candies).  Likewise, since the regression line for candies without chocolate has a negative slope, we can say that if candies don't contain chocolate, they tend to be more popular when they are cheaper.  One important note, however, is that the dataset is quite small -- so we shouldn't invest too much trust in these patterns!  To inspire more confidence in the results, we should add more candies to the dataset."
      ]
     },
     "metadata": {},
     "output_type": "display_data"
    }
   ],
   "source": [
    "# Check your answer (Run this code cell to receive credit!)\n",
    "step_6.b.solution()"
   ]
  },
  {
   "cell_type": "markdown",
   "id": "19366dd8",
   "metadata": {
    "papermill": {
     "duration": 0.012234,
     "end_time": "2022-12-30T14:50:27.062017",
     "exception": false,
     "start_time": "2022-12-30T14:50:27.049783",
     "status": "completed"
    },
    "tags": []
   },
   "source": [
    "## Step 7: Everybody loves chocolate.\n",
    "\n",
    "#### Part A\n",
    "\n",
    "Create a categorical scatter plot to highlight the relationship between `'chocolate'` and `'winpercent'`.  Put `'chocolate'` on the (horizontal) x-axis, and `'winpercent'` on the (vertical) y-axis."
   ]
  },
  {
   "cell_type": "code",
   "execution_count": 22,
   "id": "e3cb319e",
   "metadata": {
    "execution": {
     "iopub.execute_input": "2022-12-30T14:50:27.090275Z",
     "iopub.status.busy": "2022-12-30T14:50:27.089742Z",
     "iopub.status.idle": "2022-12-30T14:50:27.270132Z",
     "shell.execute_reply": "2022-12-30T14:50:27.268726Z"
    },
    "papermill": {
     "duration": 0.198681,
     "end_time": "2022-12-30T14:50:27.273765",
     "exception": false,
     "start_time": "2022-12-30T14:50:27.075084",
     "status": "completed"
    },
    "tags": []
   },
   "outputs": [
    {
     "data": {
      "application/javascript": [
       "parent.postMessage({\"jupyterEvent\": \"custom.exercise_interaction\", \"data\": {\"outcomeType\": 1, \"valueTowardsCompletion\": 0.3333333333333333, \"interactionType\": 1, \"questionType\": 2, \"questionId\": \"7.1_PlotSwarm\", \"learnToolsVersion\": \"0.3.4\", \"failureMessage\": \"\", \"exceptionClass\": \"\", \"trace\": \"\"}}, \"*\")"
      ],
      "text/plain": [
       "<IPython.core.display.Javascript object>"
      ]
     },
     "metadata": {},
     "output_type": "display_data"
    },
    {
     "data": {
      "text/markdown": [
       "<span style=\"color:#33cc33\">Correct</span>"
      ],
      "text/plain": [
       "Correct"
      ]
     },
     "metadata": {},
     "output_type": "display_data"
    },
    {
     "data": {
      "image/png": "[encoded data removed]",
      "text/plain": [
       "<Figure size 864x432 with 1 Axes>"
      ]
     },
     "metadata": {
      "needs_background": "light"
     },
     "output_type": "display_data"
    }
   ],
   "source": [
    "# Scatter plot showing the relationship between 'chocolate' and 'winpercent'\n",
    "plt.figure(figsize=(12,6))\n",
    "sns.swarmplot(x=candy_data['chocolate'], y=candy_data['winpercent'])\n",
    "\n",
    "# Check your answer\n",
    "step_7.a.check()"
   ]
  },
  {
   "cell_type": "markdown",
   "id": "e5812280",
   "metadata": {
    "papermill": {
     "duration": 0.012841,
     "end_time": "2022-12-30T14:50:27.299915",
     "exception": false,
     "start_time": "2022-12-30T14:50:27.287074",
     "status": "completed"
    },
    "tags": []
   },
   "source": []
  },
  {
   "cell_type": "code",
   "execution_count": 23,
   "id": "388f1853",
   "metadata": {
    "execution": {
     "iopub.execute_input": "2022-12-30T14:50:27.330046Z",
     "iopub.status.busy": "2022-12-30T14:50:27.328738Z",
     "iopub.status.idle": "2022-12-30T14:50:27.339051Z",
     "shell.execute_reply": "2022-12-30T14:50:27.337984Z"
    },
    "papermill": {
     "duration": 0.02771,
     "end_time": "2022-12-30T14:50:27.341845",
     "exception": false,
     "start_time": "2022-12-30T14:50:27.314135",
     "status": "completed"
    },
    "tags": []
   },
   "outputs": [
    {
     "data": {
      "application/javascript": [
       "parent.postMessage({\"jupyterEvent\": \"custom.exercise_interaction\", \"data\": {\"interactionType\": 2, \"questionType\": 2, \"questionId\": \"7.1_PlotSwarm\", \"learnToolsVersion\": \"0.3.4\", \"valueTowardsCompletion\": 0.0, \"failureMessage\": \"\", \"exceptionClass\": \"\", \"trace\": \"\", \"outcomeType\": 4}}, \"*\")"
      ],
      "text/plain": [
       "<IPython.core.display.Javascript object>"
      ]
     },
     "metadata": {},
     "output_type": "display_data"
    },
    {
     "data": {
      "text/markdown": [
       "<span style=\"color:#3366cc\">Hint:</span> Use `sns.swarmplot`, and set the variables for the x-axis and y-axis by using `x=` and `y=`, respectively."
      ],
      "text/plain": [
       "Hint: Use `sns.swarmplot`, and set the variables for the x-axis and y-axis by using `x=` and `y=`, respectively."
      ]
     },
     "metadata": {},
     "output_type": "display_data"
    }
   ],
   "source": [
    "# Lines below will give you a hint or solution code\n",
    "step_7.a.hint()\n",
    "#step_7.a.solution_plot()"
   ]
  },
  {
   "cell_type": "markdown",
   "id": "ea5a977a",
   "metadata": {
    "papermill": {
     "duration": 0.013129,
     "end_time": "2022-12-30T14:50:27.368973",
     "exception": false,
     "start_time": "2022-12-30T14:50:27.355844",
     "status": "completed"
    },
    "tags": []
   },
   "source": [
    "#### Part B\n",
    "\n",
    "You decide to dedicate a section of your report to the fact that chocolate candies tend to be more popular than candies without chocolate.  Which plot is more appropriate to tell this story: the plot from **Step 6**, or the plot from **Step 7**?"
   ]
  },
  {
   "cell_type": "code",
   "execution_count": 24,
   "id": "a46da9c6",
   "metadata": {
    "execution": {
     "iopub.execute_input": "2022-12-30T14:50:27.398644Z",
     "iopub.status.busy": "2022-12-30T14:50:27.397798Z",
     "iopub.status.idle": "2022-12-30T14:50:27.403221Z",
     "shell.execute_reply": "2022-12-30T14:50:27.402218Z"
    },
    "papermill": {
     "duration": 0.023579,
     "end_time": "2022-12-30T14:50:27.405972",
     "exception": false,
     "start_time": "2022-12-30T14:50:27.382393",
     "status": "completed"
    },
    "tags": []
   },
   "outputs": [],
   "source": [
    "#step_7.b.hint()"
   ]
  },
  {
   "cell_type": "code",
   "execution_count": 25,
   "id": "67ca9892",
   "metadata": {
    "execution": {
     "iopub.execute_input": "2022-12-30T14:50:27.436086Z",
     "iopub.status.busy": "2022-12-30T14:50:27.435174Z",
     "iopub.status.idle": "2022-12-30T14:50:27.445134Z",
     "shell.execute_reply": "2022-12-30T14:50:27.444176Z"
    },
    "papermill": {
     "duration": 0.02797,
     "end_time": "2022-12-30T14:50:27.447702",
     "exception": false,
     "start_time": "2022-12-30T14:50:27.419732",
     "status": "completed"
    },
    "tags": []
   },
   "outputs": [
    {
     "data": {
      "application/javascript": [
       "parent.postMessage({\"jupyterEvent\": \"custom.exercise_interaction\", \"data\": {\"interactionType\": 3, \"questionType\": 4, \"questionId\": \"7.2_ThinkSwarm\", \"learnToolsVersion\": \"0.3.4\", \"valueTowardsCompletion\": 0.0, \"failureMessage\": \"\", \"exceptionClass\": \"\", \"trace\": \"\", \"outcomeType\": 4}}, \"*\")"
      ],
      "text/plain": [
       "<IPython.core.display.Javascript object>"
      ]
     },
     "metadata": {},
     "output_type": "display_data"
    },
    {
     "data": {
      "text/markdown": [
       "<span style=\"color:#33cc99\">Solution:</span> In this case, the categorical scatter plot from **Step 7** is the more appropriate plot. While both plots tell the desired story, the plot from **Step 6** conveys far more information that could distract from the main point."
      ],
      "text/plain": [
       "Solution: In this case, the categorical scatter plot from **Step 7** is the more appropriate plot. While both plots tell the desired story, the plot from **Step 6** conveys far more information that could distract from the main point."
      ]
     },
     "metadata": {},
     "output_type": "display_data"
    }
   ],
   "source": [
    "# Check your answer (Run this code cell to receive credit!)\n",
    "step_7.b.solution()"
   ]
  },
  {
   "cell_type": "markdown",
   "id": "c17ebb8b",
   "metadata": {
    "papermill": {
     "duration": 0.013629,
     "end_time": "2022-12-30T14:50:27.475331",
     "exception": false,
     "start_time": "2022-12-30T14:50:27.461702",
     "status": "completed"
    },
    "tags": []
   },
   "source": [
    "## Keep going\n",
    "\n",
    "Explore **[histograms and density plots](https://www.kaggle.com/alexisbcook/distributions)**."
   ]
  },
  {
   "cell_type": "markdown",
   "id": "1312d8f4",
   "metadata": {
    "papermill": {
     "duration": 0.01397,
     "end_time": "2022-12-30T14:50:27.503681",
     "exception": false,
     "start_time": "2022-12-30T14:50:27.489711",
     "status": "completed"
    },
    "tags": []
   },
   "source": [
    "---\n",
    "\n",
    "\n",
    "\n",
    "\n",
    "*Have questions or comments? Visit the [course discussion forum](https://www.kaggle.com/learn/data-visualization/discussion) to chat with other learners.*"
   ]
  }
 ],
 "metadata": {
  "kernelspec": {
   "display_name": "Python 3",
   "language": "python",
   "name": "python3"
  },
  "language_info": {
   "codemirror_mode": {
    "name": "ipython",
    "version": 3
   },
   "file_extension": ".py",
   "mimetype": "text/x-python",
   "name": "python",
   "nbconvert_exporter": "python",
   "pygments_lexer": "ipython3",
   "version": "3.7.12"
  },
  "papermill": {
   "default_parameters": {},
   "duration": 17.010866,
   "end_time": "2022-12-30T14:50:28.542008",
   "environment_variables": {},
   "exception": null,
   "input_path": "__notebook__.ipynb",
   "output_path": "__notebook__.ipynb",
   "parameters": {},
   "start_time": "2022-12-30T14:50:11.531142",
   "version": "2.3.4"
  }
 },
 "nbformat": 4,
 "nbformat_minor": 5
}
